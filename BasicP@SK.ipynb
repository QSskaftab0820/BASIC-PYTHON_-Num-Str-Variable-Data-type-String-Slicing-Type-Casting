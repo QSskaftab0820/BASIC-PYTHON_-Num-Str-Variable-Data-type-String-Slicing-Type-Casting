{
 "cells": [
  {
   "cell_type": "markdown",
   "id": "e40ef264-8185-453d-baf6-f7e9abad1eba",
   "metadata": {},
   "source": [
    "# BASIC PYTHON PROGRAMMING"
   ]
  },
  {
   "cell_type": "code",
   "execution_count": 2,
   "id": "8d0b382c-0735-43c0-97e8-2e5eaf95bfbb",
   "metadata": {},
   "outputs": [
    {
     "data": {
      "text/plain": [
       "'3.12.7 | packaged by Anaconda, Inc. | (main, Oct  4 2024, 13:17:27) [MSC v.1929 64 bit (AMD64)]'"
      ]
     },
     "execution_count": 2,
     "metadata": {},
     "output_type": "execute_result"
    }
   ],
   "source": [
    "import sys\n",
    "sys.version\n"
   ]
  },
  {
   "cell_type": "code",
   "execution_count": 3,
   "id": "a1cad54c-fa29-4569-86ce-8f1759eb420d",
   "metadata": {},
   "outputs": [],
   "source": [
    "#Number -- Integer (int)\n",
    "#text- string (str) '',\"\",''' '''"
   ]
  },
  {
   "cell_type": "markdown",
   "id": "0eb0ddc5-298d-41ad-92a7-66af180fa49a",
   "metadata": {},
   "source": [
    "# WORK WITH NUMBERS"
   ]
  },
  {
   "cell_type": "code",
   "execution_count": 5,
   "id": "dad6fd2b-1b10-4cf8-a758-4f3de78bec9c",
   "metadata": {},
   "outputs": [
    {
     "data": {
      "text/plain": [
       "9"
      ]
     },
     "execution_count": 5,
     "metadata": {},
     "output_type": "execute_result"
    }
   ],
   "source": [
    "4+5"
   ]
  },
  {
   "cell_type": "code",
   "execution_count": 6,
   "id": "df41c514-b2d3-43e0-82cb-81c3c1518022",
   "metadata": {},
   "outputs": [
    {
     "data": {
      "text/plain": [
       "-1"
      ]
     },
     "execution_count": 6,
     "metadata": {},
     "output_type": "execute_result"
    }
   ],
   "source": [
    "5-6"
   ]
  },
  {
   "cell_type": "code",
   "execution_count": 7,
   "id": "19d04f0b-6c55-45c8-b552-150c0a4dfe01",
   "metadata": {},
   "outputs": [
    {
     "data": {
      "text/plain": [
       "8"
      ]
     },
     "execution_count": 7,
     "metadata": {},
     "output_type": "execute_result"
    }
   ],
   "source": [
    "2*4"
   ]
  },
  {
   "cell_type": "code",
   "execution_count": 8,
   "id": "77eaa94f-e76a-485f-8842-4ab40928a96f",
   "metadata": {},
   "outputs": [
    {
     "data": {
      "text/plain": [
       "2.0"
      ]
     },
     "execution_count": 8,
     "metadata": {},
     "output_type": "execute_result"
    }
   ],
   "source": [
    "4/2 #output in float"
   ]
  },
  {
   "cell_type": "code",
   "execution_count": 9,
   "id": "c414e392-5856-4a14-aafe-dbcb666b37ce",
   "metadata": {},
   "outputs": [
    {
     "data": {
      "text/plain": [
       "2"
      ]
     },
     "execution_count": 9,
     "metadata": {},
     "output_type": "execute_result"
    }
   ],
   "source": [
    "4//2 #output in int"
   ]
  },
  {
   "cell_type": "code",
   "execution_count": 10,
   "id": "5abc563c-e44a-493f-83b9-43d5671adc09",
   "metadata": {},
   "outputs": [
    {
     "data": {
      "text/plain": [
       "16"
      ]
     },
     "execution_count": 10,
     "metadata": {},
     "output_type": "execute_result"
    }
   ],
   "source": [
    "2**4"
   ]
  },
  {
   "cell_type": "code",
   "execution_count": 11,
   "id": "6ff8a62f-5eaf-4f2f-a4bb-b4c2c467289f",
   "metadata": {},
   "outputs": [
    {
     "data": {
      "text/plain": [
       "3"
      ]
     },
     "execution_count": 11,
     "metadata": {},
     "output_type": "execute_result"
    }
   ],
   "source": [
    "3%6"
   ]
  },
  {
   "cell_type": "markdown",
   "id": "626d01aa-b69f-495b-80ea-c8b2f74941be",
   "metadata": {},
   "source": [
    "# WORK WITH STRINGS"
   ]
  },
  {
   "cell_type": "code",
   "execution_count": 13,
   "id": "60962ae3-00f6-4435-8b6f-dc0c0397a477",
   "metadata": {},
   "outputs": [
    {
     "data": {
      "text/plain": [
       "('SKAFTAB', 'SKAFTAB', 'SKAFTAB')"
      ]
     },
     "execution_count": 13,
     "metadata": {},
     "output_type": "execute_result"
    }
   ],
   "source": [
    "'SKAFTAB',\"SKAFTAB\",'''SKAFTAB'''#Strings or text always ends with quotes."
   ]
  },
  {
   "cell_type": "markdown",
   "id": "e1dd18e5-558f-40df-9aa3-91a95fa50a3b",
   "metadata": {},
   "source": [
    "# VARIABLE = OBJECT"
   ]
  },
  {
   "cell_type": "code",
   "execution_count": 15,
   "id": "bde23ca3-b095-43d0-a7d1-294d75af86af",
   "metadata": {},
   "outputs": [
    {
     "data": {
      "text/plain": [
       "7"
      ]
     },
     "execution_count": 15,
     "metadata": {},
     "output_type": "execute_result"
    }
   ],
   "source": [
    "v = 7 # v is variable $ 7 is value.\n",
    "v"
   ]
  },
  {
   "cell_type": "code",
   "execution_count": 16,
   "id": "a360601d-7d72-4e65-9fb3-c7c391e45f9c",
   "metadata": {},
   "outputs": [
    {
     "data": {
      "text/plain": [
       "int"
      ]
     },
     "execution_count": 16,
     "metadata": {},
     "output_type": "execute_result"
    }
   ],
   "source": [
    "type(v)"
   ]
  },
  {
   "cell_type": "code",
   "execution_count": 17,
   "id": "8979e571-77fd-4fa8-8f94-b9c69ba7c898",
   "metadata": {},
   "outputs": [
    {
     "ename": "NameError",
     "evalue": "name 'v1' is not defined",
     "output_type": "error",
     "traceback": [
      "\u001b[1;31m---------------------------------------------------------------------------\u001b[0m",
      "\u001b[1;31mNameError\u001b[0m                                 Traceback (most recent call last)",
      "Cell \u001b[1;32mIn[17], line 2\u001b[0m\n\u001b[0;32m      1\u001b[0m v\u001b[38;5;241m=\u001b[39m\u001b[38;5;241m7\u001b[39m\n\u001b[1;32m----> 2\u001b[0m v1\n",
      "\u001b[1;31mNameError\u001b[0m: name 'v1' is not defined"
     ]
    }
   ],
   "source": [
    "v=7\n",
    "v1 #NameError V1 is not defiend"
   ]
  },
  {
   "cell_type": "code",
   "execution_count": 115,
   "id": "6633817f-557c-4911-9ed1-6a868c91b349",
   "metadata": {},
   "outputs": [
    {
     "data": {
      "text/plain": [
       "19"
      ]
     },
     "execution_count": 115,
     "metadata": {},
     "output_type": "execute_result"
    }
   ],
   "source": [
    "v=19\n",
    "v"
   ]
  },
  {
   "cell_type": "code",
   "execution_count": 117,
   "id": "637178da-609e-4912-8faf-93885f20d115",
   "metadata": {},
   "outputs": [
    {
     "data": {
      "text/plain": [
       "'SK'"
      ]
     },
     "execution_count": 117,
     "metadata": {},
     "output_type": "execute_result"
    }
   ],
   "source": [
    "v1=\"SK\"\n",
    "v1"
   ]
  },
  {
   "cell_type": "code",
   "execution_count": 120,
   "id": "2135f7e1-4573-411c-9019-08a89b409100",
   "metadata": {},
   "outputs": [
    {
     "data": {
      "text/plain": [
       "float"
      ]
     },
     "execution_count": 120,
     "metadata": {},
     "output_type": "execute_result"
    }
   ],
   "source": [
    "a=2.3\n",
    "type(a)"
   ]
  },
  {
   "cell_type": "code",
   "execution_count": 122,
   "id": "5bf5c7d4-bc4b-4265-87e4-7e8f8404cdf8",
   "metadata": {},
   "outputs": [
    {
     "data": {
      "text/plain": [
       "'3.12.7 | packaged by Anaconda, Inc. | (main, Oct  4 2024, 13:17:27) [MSC v.1929 64 bit (AMD64)]'"
      ]
     },
     "execution_count": 122,
     "metadata": {},
     "output_type": "execute_result"
    }
   ],
   "source": [
    "import sys\n",
    "sys.version"
   ]
  },
  {
   "cell_type": "code",
   "execution_count": 124,
   "id": "5b183ef1-b064-40f6-a9a9-97b906818267",
   "metadata": {},
   "outputs": [
    {
     "ename": "NameError",
     "evalue": "name 'NIT' is not defined",
     "output_type": "error",
     "traceback": [
      "\u001b[1;31m---------------------------------------------------------------------------\u001b[0m",
      "\u001b[1;31mNameError\u001b[0m                                 Traceback (most recent call last)",
      "Cell \u001b[1;32mIn[124], line 2\u001b[0m\n\u001b[0;32m      1\u001b[0m nit\u001b[38;5;241m=\u001b[39m\u001b[38;5;241m15\u001b[39m\n\u001b[1;32m----> 2\u001b[0m NIT\n",
      "\u001b[1;31mNameError\u001b[0m: name 'NIT' is not defined"
     ]
    }
   ],
   "source": [
    "nit=15\n",
    "NIT#Name error Cause its not defiend"
   ]
  },
  {
   "cell_type": "code",
   "execution_count": 126,
   "id": "ba850374-1b75-43e6-8020-29b0bf374ac8",
   "metadata": {},
   "outputs": [
    {
     "data": {
      "text/plain": [
       "15"
      ]
     },
     "execution_count": 126,
     "metadata": {},
     "output_type": "execute_result"
    }
   ],
   "source": [
    "nit"
   ]
  },
  {
   "cell_type": "code",
   "execution_count": 128,
   "id": "479b9b82-e7dd-445f-94a8-bb262b66bf5a",
   "metadata": {},
   "outputs": [
    {
     "ename": "SyntaxError",
     "evalue": "invalid decimal literal (766134864.py, line 1)",
     "output_type": "error",
     "traceback": [
      "\u001b[1;36m  Cell \u001b[1;32mIn[128], line 1\u001b[1;36m\u001b[0m\n\u001b[1;33m    1a=67\u001b[0m\n\u001b[1;37m    ^\u001b[0m\n\u001b[1;31mSyntaxError\u001b[0m\u001b[1;31m:\u001b[0m invalid decimal literal\n"
     ]
    }
   ],
   "source": [
    "1a=67\n",
    "1a#variable come first then num"
   ]
  },
  {
   "cell_type": "code",
   "execution_count": 130,
   "id": "53281ab8-2400-4d21-b965-145732492b80",
   "metadata": {},
   "outputs": [
    {
     "data": {
      "text/plain": [
       "4"
      ]
     },
     "execution_count": 130,
     "metadata": {},
     "output_type": "execute_result"
    }
   ],
   "source": [
    "a1=4\n",
    "a1"
   ]
  },
  {
   "cell_type": "code",
   "execution_count": 132,
   "id": "94909bc5-a46e-4de1-a161-19633e2f25b5",
   "metadata": {},
   "outputs": [
    {
     "ename": "SyntaxError",
     "evalue": "invalid syntax (2623855973.py, line 1)",
     "output_type": "error",
     "traceback": [
      "\u001b[1;36m  Cell \u001b[1;32mIn[132], line 1\u001b[1;36m\u001b[0m\n\u001b[1;33m    nit$=45\u001b[0m\n\u001b[1;37m       ^\u001b[0m\n\u001b[1;31mSyntaxError\u001b[0m\u001b[1;31m:\u001b[0m invalid syntax\n"
     ]
    }
   ],
   "source": [
    "nit$=45\n",
    "nit$#special key not allowed except _"
   ]
  },
  {
   "cell_type": "code",
   "execution_count": 134,
   "id": "a9f24bf9-e6ed-4783-8137-1d85f7434f91",
   "metadata": {},
   "outputs": [],
   "source": [
    "x_train, x_test, y_train, y_test= 80,20,70,30"
   ]
  },
  {
   "cell_type": "code",
   "execution_count": 136,
   "id": "598e5773-c78d-40f5-99f9-1a3c02180952",
   "metadata": {},
   "outputs": [
    {
     "data": {
      "text/plain": [
       "30"
      ]
     },
     "execution_count": 136,
     "metadata": {},
     "output_type": "execute_result"
    }
   ],
   "source": [
    "x_train\n",
    "x_test\n",
    "y_train\n",
    "y_test#only last element will come cause print was not there"
   ]
  },
  {
   "cell_type": "code",
   "execution_count": 138,
   "id": "a633c36f-6513-4bde-b1ab-dfbf5bdf89af",
   "metadata": {},
   "outputs": [
    {
     "name": "stdout",
     "output_type": "stream",
     "text": [
      "80\n",
      "20\n",
      "70\n",
      "30\n"
     ]
    }
   ],
   "source": [
    "print(x_train)\n",
    "print(x_test)\n",
    "print(y_train)\n",
    "print(y_test)\n"
   ]
  },
  {
   "cell_type": "code",
   "execution_count": 140,
   "id": "f15cb10f-4594-4d24-9f47-7ca5187844c9",
   "metadata": {},
   "outputs": [
    {
     "data": {
      "text/plain": [
       "['False',\n",
       " 'None',\n",
       " 'True',\n",
       " 'and',\n",
       " 'as',\n",
       " 'assert',\n",
       " 'async',\n",
       " 'await',\n",
       " 'break',\n",
       " 'class',\n",
       " 'continue',\n",
       " 'def',\n",
       " 'del',\n",
       " 'elif',\n",
       " 'else',\n",
       " 'except',\n",
       " 'finally',\n",
       " 'for',\n",
       " 'from',\n",
       " 'global',\n",
       " 'if',\n",
       " 'import',\n",
       " 'in',\n",
       " 'is',\n",
       " 'lambda',\n",
       " 'nonlocal',\n",
       " 'not',\n",
       " 'or',\n",
       " 'pass',\n",
       " 'raise',\n",
       " 'return',\n",
       " 'try',\n",
       " 'while',\n",
       " 'with',\n",
       " 'yield']"
      ]
     },
     "execution_count": 140,
     "metadata": {},
     "output_type": "execute_result"
    }
   ],
   "source": [
    "import keyword\n",
    "keyword.kwlist"
   ]
  },
  {
   "cell_type": "code",
   "execution_count": 142,
   "id": "30b723e8-6522-4ebb-8946-f95be46a671a",
   "metadata": {},
   "outputs": [
    {
     "ename": "SyntaxError",
     "evalue": "invalid syntax (3469680300.py, line 1)",
     "output_type": "error",
     "traceback": [
      "\u001b[1;36m  Cell \u001b[1;32mIn[142], line 1\u001b[1;36m\u001b[0m\n\u001b[1;33m    if=90\u001b[0m\n\u001b[1;37m      ^\u001b[0m\n\u001b[1;31mSyntaxError\u001b[0m\u001b[1;31m:\u001b[0m invalid syntax\n"
     ]
    }
   ],
   "source": [
    "if=90\n",
    "if#syntaxError Cause \"if\" is a keyword"
   ]
  },
  {
   "cell_type": "code",
   "execution_count": 144,
   "id": "514476fb-2875-4a4b-ad80-1fa5e008d563",
   "metadata": {},
   "outputs": [],
   "source": [
    "a12 = 40\n",
    "a8 = 84"
   ]
  },
  {
   "cell_type": "code",
   "execution_count": 146,
   "id": "dbe1845d-dccd-4bf7-83ad-6e8ae75cef3f",
   "metadata": {},
   "outputs": [
    {
     "name": "stdout",
     "output_type": "stream",
     "text": [
      "40\n",
      "84\n"
     ]
    }
   ],
   "source": [
    "print(a12)\n",
    "print(a8)"
   ]
  },
  {
   "cell_type": "code",
   "execution_count": 148,
   "id": "10bd19f3-f5dd-44c2-b479-a8b27ba7f0ac",
   "metadata": {},
   "outputs": [
    {
     "ename": "SyntaxError",
     "evalue": "invalid syntax (2641198190.py, line 1)",
     "output_type": "error",
     "traceback": [
      "\u001b[1;36m  Cell \u001b[1;32mIn[148], line 1\u001b[1;36m\u001b[0m\n\u001b[1;33m    for = 20#syntax Error because these are keys\u001b[0m\n\u001b[1;37m        ^\u001b[0m\n\u001b[1;31mSyntaxError\u001b[0m\u001b[1;31m:\u001b[0m invalid syntax\n"
     ]
    }
   ],
   "source": [
    "for = 20#syntax Error because these are keys"
   ]
  },
  {
   "cell_type": "code",
   "execution_count": 150,
   "id": "15a28033-e2c5-4bf6-a466-384ca9dd32e3",
   "metadata": {},
   "outputs": [
    {
     "ename": "SyntaxError",
     "evalue": "invalid syntax (386974213.py, line 1)",
     "output_type": "error",
     "traceback": [
      "\u001b[1;36m  Cell \u001b[1;32mIn[150], line 1\u001b[1;36m\u001b[0m\n\u001b[1;33m    dei 10\u001b[0m\n\u001b[1;37m        ^\u001b[0m\n\u001b[1;31mSyntaxError\u001b[0m\u001b[1;31m:\u001b[0m invalid syntax\n"
     ]
    }
   ],
   "source": [
    "dei 10"
   ]
  },
  {
   "cell_type": "code",
   "execution_count": 152,
   "id": "0c1a4c0f-c25c-4b00-bcc9-dbc65be02dc5",
   "metadata": {},
   "outputs": [
    {
     "data": {
      "text/plain": [
       "20"
      ]
     },
     "execution_count": 152,
     "metadata": {},
     "output_type": "execute_result"
    }
   ],
   "source": [
    "For = 20\n",
    "For"
   ]
  },
  {
   "cell_type": "code",
   "execution_count": 154,
   "id": "d742cb95-89ec-42e6-89a4-ad59daf6a597",
   "metadata": {},
   "outputs": [
    {
     "data": {
      "text/plain": [
       "True"
      ]
     },
     "execution_count": 154,
     "metadata": {},
     "output_type": "execute_result"
    }
   ],
   "source": [
    "a = True\n",
    "a"
   ]
  },
  {
   "cell_type": "code",
   "execution_count": 156,
   "id": "d43be8ba-9bb8-40ef-8505-5a4778705d76",
   "metadata": {},
   "outputs": [
    {
     "data": {
      "text/plain": [
       "'True'"
      ]
     },
     "execution_count": 156,
     "metadata": {},
     "output_type": "execute_result"
    }
   ],
   "source": [
    "b = \"True\"\n",
    "b"
   ]
  },
  {
   "cell_type": "code",
   "execution_count": 158,
   "id": "e5de3c5c-ab08-448b-ba08-26c46ebf2125",
   "metadata": {},
   "outputs": [
    {
     "data": {
      "text/plain": [
       "3.17"
      ]
     },
     "execution_count": 158,
     "metadata": {},
     "output_type": "execute_result"
    }
   ],
   "source": [
    "pi = 3.17\n",
    "pi"
   ]
  },
  {
   "cell_type": "code",
   "execution_count": 160,
   "id": "c4887cbc-bc00-4754-bcfb-1e55121cd64a",
   "metadata": {},
   "outputs": [
    {
     "data": {
      "text/plain": [
       "3.2"
      ]
     },
     "execution_count": 160,
     "metadata": {},
     "output_type": "execute_result"
    }
   ],
   "source": [
    "pi = 3.20\n",
    "pi"
   ]
  },
  {
   "cell_type": "code",
   "execution_count": 162,
   "id": "9f6ca775-f0e2-4b20-9142-97cccf7258b9",
   "metadata": {},
   "outputs": [
    {
     "data": {
      "text/plain": [
       "90"
      ]
     },
     "execution_count": 162,
     "metadata": {},
     "output_type": "execute_result"
    }
   ],
   "source": [
    "qqqqqqqqqqqqqqqqqqqqqqqqqqqqqqqqqqqqqqqqqqqqqqqq = 90\n",
    "qqqqqqqqqqqqqqqqqqqqqqqqqqqqqqqqqqqqqqqqqqqqqqqq "
   ]
  },
  {
   "cell_type": "code",
   "execution_count": 164,
   "id": "80eabdb9-8294-41ff-8b97-e14302362098",
   "metadata": {},
   "outputs": [
    {
     "data": {
      "text/plain": [
       "True"
      ]
     },
     "execution_count": 164,
     "metadata": {},
     "output_type": "execute_result"
    }
   ],
   "source": [
    "a\n"
   ]
  },
  {
   "cell_type": "code",
   "execution_count": null,
   "id": "0d04b977-9f08-453e-9d7d-4162c3ced060",
   "metadata": {},
   "outputs": [],
   "source": []
  },
  {
   "cell_type": "markdown",
   "id": "2594b14f-03bf-444d-8600-28e7fcdd8104",
   "metadata": {},
   "source": [
    "# 27 -- DATA TYPE --\n",
    "INT FLOAT BOOLEAN COMPKEX STRING"
   ]
  },
  {
   "cell_type": "markdown",
   "id": "010ecbd2-f7e9-48a3-ad1e-9b0eb56f8102",
   "metadata": {},
   "source": [
    "# INTEGER"
   ]
  },
  {
   "cell_type": "code",
   "execution_count": 170,
   "id": "ebd66c84-64ea-40ce-90e1-a1bc6015b3f3",
   "metadata": {},
   "outputs": [
    {
     "data": {
      "text/plain": [
       "23"
      ]
     },
     "execution_count": 170,
     "metadata": {},
     "output_type": "execute_result"
    }
   ],
   "source": [
    "i = 23\n",
    "i"
   ]
  },
  {
   "cell_type": "code",
   "execution_count": 172,
   "id": "3ab08be0-e53e-43b1-9ae8-416a01bc2e43",
   "metadata": {},
   "outputs": [
    {
     "data": {
      "text/plain": [
       "int"
      ]
     },
     "execution_count": 172,
     "metadata": {},
     "output_type": "execute_result"
    }
   ],
   "source": [
    "type(i)"
   ]
  },
  {
   "cell_type": "code",
   "execution_count": 174,
   "id": "06287a51-497e-4433-ad1e-1ebbe9cdbf44",
   "metadata": {},
   "outputs": [
    {
     "name": "stdout",
     "output_type": "stream",
     "text": [
      "<class 'int'>\n"
     ]
    }
   ],
   "source": [
    "\n",
    "print(type(i))"
   ]
  },
  {
   "cell_type": "markdown",
   "id": "4eec9eb3-2694-4967-b29d-08fb4582bbf9",
   "metadata": {},
   "source": [
    "# FLOAT"
   ]
  },
  {
   "cell_type": "code",
   "execution_count": 177,
   "id": "1cc1457e-40f2-474f-9f2e-af72bd9703c0",
   "metadata": {},
   "outputs": [
    {
     "data": {
      "text/plain": [
       "105.95"
      ]
     },
     "execution_count": 177,
     "metadata": {},
     "output_type": "execute_result"
    }
   ],
   "source": [
    "petrol = 105.95\n",
    "petrol"
   ]
  },
  {
   "cell_type": "code",
   "execution_count": 179,
   "id": "2888236f-a2c1-4d28-a0f9-e8574949a36c",
   "metadata": {},
   "outputs": [
    {
     "data": {
      "text/plain": [
       "float"
      ]
     },
     "execution_count": 179,
     "metadata": {},
     "output_type": "execute_result"
    }
   ],
   "source": [
    "type(petrol)"
   ]
  },
  {
   "cell_type": "code",
   "execution_count": 181,
   "id": "87f79adb-91a1-46af-9c36-9a748299f8e6",
   "metadata": {},
   "outputs": [
    {
     "name": "stdout",
     "output_type": "stream",
     "text": [
      "<class 'float'>\n"
     ]
    }
   ],
   "source": [
    "print(type(petrol))"
   ]
  },
  {
   "cell_type": "markdown",
   "id": "5fbe3695-91ae-4d86-8600-dcc561726110",
   "metadata": {},
   "source": [
    "# BOOLEAN"
   ]
  },
  {
   "cell_type": "code",
   "execution_count": 184,
   "id": "3b6a3968-5d54-4819-9593-7eb7b367c5dc",
   "metadata": {},
   "outputs": [
    {
     "ename": "NameError",
     "evalue": "name 'true' is not defined",
     "output_type": "error",
     "traceback": [
      "\u001b[1;31m---------------------------------------------------------------------------\u001b[0m",
      "\u001b[1;31mNameError\u001b[0m                                 Traceback (most recent call last)",
      "Cell \u001b[1;32mIn[184], line 1\u001b[0m\n\u001b[1;32m----> 1\u001b[0m b \u001b[38;5;241m=\u001b[39m true\n\u001b[0;32m      2\u001b[0m b\n",
      "\u001b[1;31mNameError\u001b[0m: name 'true' is not defined"
     ]
    }
   ],
   "source": [
    "b = true\n",
    "b#first letter should be in capital for bool"
   ]
  },
  {
   "cell_type": "code",
   "execution_count": 186,
   "id": "908577a8-f90e-4157-8859-bc72e1dfe33b",
   "metadata": {},
   "outputs": [
    {
     "data": {
      "text/plain": [
       "True"
      ]
     },
     "execution_count": 186,
     "metadata": {},
     "output_type": "execute_result"
    }
   ],
   "source": [
    "b = True\n",
    "b"
   ]
  },
  {
   "cell_type": "code",
   "execution_count": 188,
   "id": "9d54f35b-fed6-4780-81b0-8daedc328e68",
   "metadata": {},
   "outputs": [
    {
     "data": {
      "text/plain": [
       "False"
      ]
     },
     "execution_count": 188,
     "metadata": {},
     "output_type": "execute_result"
    }
   ],
   "source": [
    "b1 = False\n",
    "b1"
   ]
  },
  {
   "cell_type": "code",
   "execution_count": 190,
   "id": "6c23e7dc-21a2-4360-ab4f-f86de5a8d6e0",
   "metadata": {},
   "outputs": [
    {
     "data": {
      "text/plain": [
       "1"
      ]
     },
     "execution_count": 190,
     "metadata": {},
     "output_type": "execute_result"
    }
   ],
   "source": [
    "True + False#Accor to program or Coding True = 1 & False = 0"
   ]
  },
  {
   "cell_type": "code",
   "execution_count": 192,
   "id": "58f13681-db20-4edb-b36b-d142ad325e9b",
   "metadata": {},
   "outputs": [
    {
     "data": {
      "text/plain": [
       "-1"
      ]
     },
     "execution_count": 192,
     "metadata": {},
     "output_type": "execute_result"
    }
   ],
   "source": [
    "False - True"
   ]
  },
  {
   "cell_type": "code",
   "execution_count": 194,
   "id": "29f155e2-a04e-40d5-98d6-57374fdfd806",
   "metadata": {},
   "outputs": [
    {
     "data": {
      "text/plain": [
       "2"
      ]
     },
     "execution_count": 194,
     "metadata": {},
     "output_type": "execute_result"
    }
   ],
   "source": [
    "True + True"
   ]
  },
  {
   "cell_type": "code",
   "execution_count": 196,
   "id": "f9eb92f7-0ca4-4325-b505-2d56d989a02f",
   "metadata": {},
   "outputs": [
    {
     "ename": "ZeroDivisionError",
     "evalue": "division by zero",
     "output_type": "error",
     "traceback": [
      "\u001b[1;31m---------------------------------------------------------------------------\u001b[0m",
      "\u001b[1;31mZeroDivisionError\u001b[0m                         Traceback (most recent call last)",
      "Cell \u001b[1;32mIn[196], line 1\u001b[0m\n\u001b[1;32m----> 1\u001b[0m \u001b[38;5;28;01mTrue\u001b[39;00m \u001b[38;5;241m/\u001b[39m \u001b[38;5;28;01mFalse\u001b[39;00m\n",
      "\u001b[1;31mZeroDivisionError\u001b[0m: division by zero"
     ]
    }
   ],
   "source": [
    "True / False#undefiend"
   ]
  },
  {
   "cell_type": "code",
   "execution_count": 198,
   "id": "88a91f67-7250-4dcb-9120-5f5e8ed8c314",
   "metadata": {},
   "outputs": [
    {
     "data": {
      "text/plain": [
       "0.0"
      ]
     },
     "execution_count": 198,
     "metadata": {},
     "output_type": "execute_result"
    }
   ],
   "source": [
    "False/True"
   ]
  },
  {
   "cell_type": "code",
   "execution_count": 200,
   "id": "10f4b381-d154-4c2d-b8c4-7209f1f3356c",
   "metadata": {},
   "outputs": [
    {
     "data": {
      "text/plain": [
       "0"
      ]
     },
     "execution_count": 200,
     "metadata": {},
     "output_type": "execute_result"
    }
   ],
   "source": [
    "False//True"
   ]
  },
  {
   "cell_type": "markdown",
   "id": "a4e12dc2-8301-467e-9d43-133efdf894ce",
   "metadata": {},
   "source": [
    "# COMPLEX"
   ]
  },
  {
   "cell_type": "code",
   "execution_count": 203,
   "id": "0a82d7bd-014e-4a78-9547-1ad791c94e7b",
   "metadata": {},
   "outputs": [
    {
     "ename": "NameError",
     "evalue": "name 'bj' is not defined",
     "output_type": "error",
     "traceback": [
      "\u001b[1;31m---------------------------------------------------------------------------\u001b[0m",
      "\u001b[1;31mNameError\u001b[0m                                 Traceback (most recent call last)",
      "Cell \u001b[1;32mIn[203], line 1\u001b[0m\n\u001b[1;32m----> 1\u001b[0m c \u001b[38;5;241m=\u001b[39m a\u001b[38;5;241m+\u001b[39mbj\n",
      "\u001b[1;31mNameError\u001b[0m: name 'bj' is not defined"
     ]
    }
   ],
   "source": [
    "c = a+bj #a=real part ,b= imaginary part & j is the square root of -1"
   ]
  },
  {
   "cell_type": "code",
   "execution_count": 205,
   "id": "d6ad765b-b3c8-42f6-8eb0-a4ac9d5fa133",
   "metadata": {},
   "outputs": [],
   "source": [
    "c1 = 10 + 20j\n"
   ]
  },
  {
   "cell_type": "code",
   "execution_count": 207,
   "id": "bae08376-e32f-46aa-b9b0-53b211950002",
   "metadata": {},
   "outputs": [
    {
     "data": {
      "text/plain": [
       "10.0"
      ]
     },
     "execution_count": 207,
     "metadata": {},
     "output_type": "execute_result"
    }
   ],
   "source": [
    "c1.real"
   ]
  },
  {
   "cell_type": "code",
   "execution_count": 209,
   "id": "8fc2a963-2286-44c9-b7f6-a653eecfff36",
   "metadata": {},
   "outputs": [
    {
     "data": {
      "text/plain": [
       "20.0"
      ]
     },
     "execution_count": 209,
     "metadata": {},
     "output_type": "execute_result"
    }
   ],
   "source": [
    "c1.imag #IMAGINARY"
   ]
  },
  {
   "cell_type": "code",
   "execution_count": 211,
   "id": "e839c9a4-5655-4a34-805b-26dbda661c01",
   "metadata": {},
   "outputs": [
    {
     "data": {
      "text/plain": [
       "(10+20j)"
      ]
     },
     "execution_count": 211,
     "metadata": {},
     "output_type": "execute_result"
    }
   ],
   "source": [
    "c1"
   ]
  },
  {
   "cell_type": "code",
   "execution_count": 213,
   "id": "972e86f2-952d-4f4f-a614-912a7eedab44",
   "metadata": {},
   "outputs": [
    {
     "data": {
      "text/plain": [
       "(20+30j)"
      ]
     },
     "execution_count": 213,
     "metadata": {},
     "output_type": "execute_result"
    }
   ],
   "source": [
    "c2 = 20 + 30j\n",
    "c2\n"
   ]
  },
  {
   "cell_type": "code",
   "execution_count": 215,
   "id": "1351ba3d-7dd5-425e-aa06-4b0b80b759e2",
   "metadata": {},
   "outputs": [
    {
     "name": "stdout",
     "output_type": "stream",
     "text": [
      "(10+20j)\n",
      "(20+30j)\n"
     ]
    }
   ],
   "source": [
    "print(c1)\n",
    "print(c2)"
   ]
  },
  {
   "cell_type": "code",
   "execution_count": 217,
   "id": "e5292d14-abbc-47e7-8ad4-d376066c24ef",
   "metadata": {},
   "outputs": [
    {
     "data": {
      "text/plain": [
       "(30+50j)"
      ]
     },
     "execution_count": 217,
     "metadata": {},
     "output_type": "execute_result"
    }
   ],
   "source": [
    "c1+c2"
   ]
  },
  {
   "cell_type": "code",
   "execution_count": 219,
   "id": "0721f79e-6376-46d2-970b-62f118beff9d",
   "metadata": {},
   "outputs": [
    {
     "name": "stdout",
     "output_type": "stream",
     "text": [
      "(30+50j)\n"
     ]
    }
   ],
   "source": [
    "print(c1+c2)"
   ]
  },
  {
   "cell_type": "code",
   "execution_count": 221,
   "id": "b4f6c9a7-91cc-496c-8504-ac14f1efb758",
   "metadata": {},
   "outputs": [
    {
     "ename": "SyntaxError",
     "evalue": "invalid decimal literal (1988768163.py, line 1)",
     "output_type": "error",
     "traceback": [
      "\u001b[1;36m  Cell \u001b[1;32mIn[221], line 1\u001b[1;36m\u001b[0m\n\u001b[1;33m    c3 = 20 + 60i#only j letter is allowed for complex\u001b[0m\n\u001b[1;37m               ^\u001b[0m\n\u001b[1;31mSyntaxError\u001b[0m\u001b[1;31m:\u001b[0m invalid decimal literal\n"
     ]
    }
   ],
   "source": [
    "c3 = 20 + 60i#only j letter is allowed for complex"
   ]
  },
  {
   "cell_type": "code",
   "execution_count": 223,
   "id": "5b79b5f2-62f0-42a7-8249-0b530ef2ffc6",
   "metadata": {},
   "outputs": [
    {
     "data": {
      "text/plain": [
       "(-10-10j)"
      ]
     },
     "execution_count": 223,
     "metadata": {},
     "output_type": "execute_result"
    }
   ],
   "source": [
    "c1-c2"
   ]
  },
  {
   "cell_type": "code",
   "execution_count": 225,
   "id": "6ea120f5-2d08-48e1-8936-8ef2e029bb6b",
   "metadata": {},
   "outputs": [
    {
     "data": {
      "text/plain": [
       "(0.6153846153846154+0.0769230769230769j)"
      ]
     },
     "execution_count": 225,
     "metadata": {},
     "output_type": "execute_result"
    }
   ],
   "source": [
    "c1/c2"
   ]
  },
  {
   "cell_type": "code",
   "execution_count": 227,
   "id": "3edc46fa-8374-49ac-a082-fa4c6ecac49b",
   "metadata": {},
   "outputs": [
    {
     "ename": "TypeError",
     "evalue": "unsupported operand type(s) for //: 'complex' and 'complex'",
     "output_type": "error",
     "traceback": [
      "\u001b[1;31m---------------------------------------------------------------------------\u001b[0m",
      "\u001b[1;31mTypeError\u001b[0m                                 Traceback (most recent call last)",
      "Cell \u001b[1;32mIn[227], line 1\u001b[0m\n\u001b[1;32m----> 1\u001b[0m c1\u001b[38;5;241m/\u001b[39m\u001b[38;5;241m/\u001b[39mc2\n",
      "\u001b[1;31mTypeError\u001b[0m: unsupported operand type(s) for //: 'complex' and 'complex'"
     ]
    }
   ],
   "source": [
    "c1//c2"
   ]
  },
  {
   "cell_type": "code",
   "execution_count": 229,
   "id": "88ce4e60-5ae6-400f-82a2-82b416612d3e",
   "metadata": {},
   "outputs": [
    {
     "data": {
      "text/plain": [
       "(-400+700j)"
      ]
     },
     "execution_count": 229,
     "metadata": {},
     "output_type": "execute_result"
    }
   ],
   "source": [
    "c1*c2"
   ]
  },
  {
   "cell_type": "markdown",
   "id": "deb60888-4785-45ca-8bd0-e5a6afc749ac",
   "metadata": {},
   "source": [
    "# STRING"
   ]
  },
  {
   "cell_type": "code",
   "execution_count": 232,
   "id": "cbfa862e-329d-4d21-8961-7f42e834b2f5",
   "metadata": {},
   "outputs": [
    {
     "data": {
      "text/plain": [
       "'SK AFTAB'"
      ]
     },
     "execution_count": 232,
     "metadata": {},
     "output_type": "execute_result"
    }
   ],
   "source": [
    "s = 'SK AFTAB'\n",
    "s"
   ]
  },
  {
   "cell_type": "code",
   "execution_count": 234,
   "id": "7a2c075d-1418-4000-9a09-7dcb2084d506",
   "metadata": {},
   "outputs": [
    {
     "data": {
      "text/plain": [
       "'SKAFTAB'"
      ]
     },
     "execution_count": 234,
     "metadata": {},
     "output_type": "execute_result"
    }
   ],
   "source": [
    "s1 = \"SKAFTAB\"\n",
    "s1"
   ]
  },
  {
   "cell_type": "code",
   "execution_count": 236,
   "id": "27401f7b-2d2c-48f3-b48d-412a23fcfe06",
   "metadata": {},
   "outputs": [
    {
     "data": {
      "text/plain": [
       "'SK\\n     AFTAB'"
      ]
     },
     "execution_count": 236,
     "metadata": {},
     "output_type": "execute_result"
    }
   ],
   "source": [
    "s2 = '''SK\n",
    "     AFTAB'''# only exceptable under the triple quoets\n",
    "s2  #\\n is use for next line\n"
   ]
  },
  {
   "cell_type": "markdown",
   "id": "9019f644-ea08-417c-9bb4-9bbed27de193",
   "metadata": {},
   "source": [
    "# STRING SLICING [:]"
   ]
  },
  {
   "cell_type": "markdown",
   "id": "bae07888-c113-46d4-b3a4-fca245cc4681",
   "metadata": {},
   "source": [
    "## INDEXING"
   ]
  },
  {
   "cell_type": "code",
   "execution_count": 240,
   "id": "19616290-a382-4c1d-b45b-72ce0f29cbd2",
   "metadata": {},
   "outputs": [],
   "source": [
    "s = \"SK AFTAB\""
   ]
  },
  {
   "cell_type": "code",
   "execution_count": 242,
   "id": "76117728-a067-43cf-94f3-c44923e0d16e",
   "metadata": {},
   "outputs": [
    {
     "data": {
      "text/plain": [
       "'SK AFTAB'"
      ]
     },
     "execution_count": 242,
     "metadata": {},
     "output_type": "execute_result"
    }
   ],
   "source": [
    "s"
   ]
  },
  {
   "cell_type": "code",
   "execution_count": 244,
   "id": "9ab05500-37fe-404a-869d-351e11741059",
   "metadata": {},
   "outputs": [
    {
     "data": {
      "text/plain": [
       "'SK AFTAB'"
      ]
     },
     "execution_count": 244,
     "metadata": {},
     "output_type": "execute_result"
    }
   ],
   "source": [
    "s[:]#slice notaion or full or identity slic to access the entire sequence s[0:len(s)]."
   ]
  },
  {
   "cell_type": "code",
   "execution_count": 246,
   "id": "b3fefe58-8d30-4fb2-8734-6b7107dfd579",
   "metadata": {},
   "outputs": [
    {
     "data": {
      "text/plain": [
       "'T'"
      ]
     },
     "execution_count": 246,
     "metadata": {},
     "output_type": "execute_result"
    }
   ],
   "source": [
    "s[5] #FORWARD indexing start from 0."
   ]
  },
  {
   "cell_type": "code",
   "execution_count": 248,
   "id": "85265336-29c3-4d94-94b0-8c2256c90dcb",
   "metadata": {},
   "outputs": [
    {
     "data": {
      "text/plain": [
       "'SK AFTAB'"
      ]
     },
     "execution_count": 248,
     "metadata": {},
     "output_type": "execute_result"
    }
   ],
   "source": [
    "s"
   ]
  },
  {
   "cell_type": "code",
   "execution_count": 250,
   "id": "fd158312-b62b-49cc-bc05-a6636a3831c2",
   "metadata": {},
   "outputs": [
    {
     "data": {
      "text/plain": [
       "'T'"
      ]
     },
     "execution_count": 250,
     "metadata": {},
     "output_type": "execute_result"
    }
   ],
   "source": [
    "s[-3] #BACKWARD Indexing Start from -1"
   ]
  },
  {
   "cell_type": "code",
   "execution_count": 252,
   "id": "456d8bd1-6324-4f3d-b5fa-c38021619ce0",
   "metadata": {},
   "outputs": [
    {
     "data": {
      "text/plain": [
       "True"
      ]
     },
     "execution_count": 252,
     "metadata": {},
     "output_type": "execute_result"
    }
   ],
   "source": [
    "b = True\n",
    "b"
   ]
  },
  {
   "cell_type": "code",
   "execution_count": 254,
   "id": "12012d14-7749-4c37-96a4-40f0adebaa56",
   "metadata": {},
   "outputs": [
    {
     "data": {
      "text/plain": [
       "1"
      ]
     },
     "execution_count": 254,
     "metadata": {},
     "output_type": "execute_result"
    }
   ],
   "source": [
    "int(True)"
   ]
  },
  {
   "cell_type": "code",
   "execution_count": 256,
   "id": "8bfc3ec9-e9eb-403c-bf93-1e6b38578bfb",
   "metadata": {},
   "outputs": [
    {
     "data": {
      "text/plain": [
       "0"
      ]
     },
     "execution_count": 256,
     "metadata": {},
     "output_type": "execute_result"
    }
   ],
   "source": [
    "int(False)"
   ]
  },
  {
   "cell_type": "code",
   "execution_count": 258,
   "id": "f896dd10-973e-4ed4-b450-7196304ecc68",
   "metadata": {},
   "outputs": [
    {
     "data": {
      "text/plain": [
       "1.0"
      ]
     },
     "execution_count": 258,
     "metadata": {},
     "output_type": "execute_result"
    }
   ],
   "source": [
    "float(True)"
   ]
  },
  {
   "cell_type": "code",
   "execution_count": 260,
   "id": "570b10ec-25b6-453a-8a18-2a5cce9b57c4",
   "metadata": {},
   "outputs": [
    {
     "data": {
      "text/plain": [
       "0.0"
      ]
     },
     "execution_count": 260,
     "metadata": {},
     "output_type": "execute_result"
    }
   ],
   "source": [
    "float(False)"
   ]
  },
  {
   "cell_type": "code",
   "execution_count": 262,
   "id": "fd8fd813-9ae1-4dc2-a899-718f937004e2",
   "metadata": {},
   "outputs": [
    {
     "data": {
      "text/plain": [
       "True"
      ]
     },
     "execution_count": 262,
     "metadata": {},
     "output_type": "execute_result"
    }
   ],
   "source": [
    "True"
   ]
  },
  {
   "cell_type": "code",
   "execution_count": 264,
   "id": "c369be81-6eca-497a-b9fe-8c7e2846937d",
   "metadata": {},
   "outputs": [
    {
     "data": {
      "text/plain": [
       "False"
      ]
     },
     "execution_count": 264,
     "metadata": {},
     "output_type": "execute_result"
    }
   ],
   "source": [
    "False"
   ]
  },
  {
   "cell_type": "code",
   "execution_count": 266,
   "id": "be52d453-47cb-415f-9108-7bf3fbc54c5c",
   "metadata": {},
   "outputs": [
    {
     "data": {
      "text/plain": [
       "int"
      ]
     },
     "execution_count": 266,
     "metadata": {},
     "output_type": "execute_result"
    }
   ],
   "source": [
    "int"
   ]
  },
  {
   "cell_type": "code",
   "execution_count": 268,
   "id": "d43cbfdb-d730-40c4-b3a3-43ac16062982",
   "metadata": {},
   "outputs": [
    {
     "data": {
      "text/plain": [
       "complex"
      ]
     },
     "execution_count": 268,
     "metadata": {},
     "output_type": "execute_result"
    }
   ],
   "source": [
    "complex"
   ]
  },
  {
   "cell_type": "code",
   "execution_count": 270,
   "id": "f51e7735-338a-4ab6-b9ba-e1c75adff99d",
   "metadata": {},
   "outputs": [
    {
     "data": {
      "text/plain": [
       "bool"
      ]
     },
     "execution_count": 270,
     "metadata": {},
     "output_type": "execute_result"
    }
   ],
   "source": [
    "bool"
   ]
  },
  {
   "cell_type": "code",
   "execution_count": 272,
   "id": "2029b37d-17a0-4f5d-b12e-635cef098821",
   "metadata": {},
   "outputs": [
    {
     "data": {
      "text/plain": [
       "str"
      ]
     },
     "execution_count": 272,
     "metadata": {},
     "output_type": "execute_result"
    }
   ],
   "source": [
    "str"
   ]
  },
  {
   "cell_type": "markdown",
   "id": "3009b5d1-bd73-4f4d-b6f2-01ff2dda6d3d",
   "metadata": {},
   "source": [
    "## SLICING INDEXING"
   ]
  },
  {
   "cell_type": "code",
   "execution_count": 275,
   "id": "f7f11035-9cb7-4a77-a5c6-be6d003394a1",
   "metadata": {},
   "outputs": [
    {
     "data": {
      "text/plain": [
       "'SK AFTAB'"
      ]
     },
     "execution_count": 275,
     "metadata": {},
     "output_type": "execute_result"
    }
   ],
   "source": [
    "s"
   ]
  },
  {
   "cell_type": "code",
   "execution_count": 277,
   "id": "0b807350-c516-4788-921c-62ca1a8cb511",
   "metadata": {},
   "outputs": [
    {
     "data": {
      "text/plain": [
       "'K '"
      ]
     },
     "execution_count": 277,
     "metadata": {},
     "output_type": "execute_result"
    }
   ],
   "source": [
    "s[1:3] #(n-1) last index "
   ]
  },
  {
   "cell_type": "code",
   "execution_count": 279,
   "id": "a53b2bfa-e21a-41ec-af0e-56d99658e52d",
   "metadata": {},
   "outputs": [
    {
     "data": {
      "text/plain": [
       "'K AF'"
      ]
     },
     "execution_count": 279,
     "metadata": {},
     "output_type": "execute_result"
    }
   ],
   "source": [
    "s[1:5]"
   ]
  },
  {
   "cell_type": "code",
   "execution_count": 281,
   "id": "d0e433e9-6114-4303-893b-5168889615e5",
   "metadata": {},
   "outputs": [
    {
     "data": {
      "text/plain": [
       "'B'"
      ]
     },
     "execution_count": 281,
     "metadata": {},
     "output_type": "execute_result"
    }
   ],
   "source": [
    "s[7]"
   ]
  },
  {
   "cell_type": "code",
   "execution_count": 283,
   "id": "5b67cee1-7531-4b90-962a-d68930445536",
   "metadata": {},
   "outputs": [],
   "source": [
    "s = \"sk aftab\""
   ]
  },
  {
   "cell_type": "code",
   "execution_count": 285,
   "id": "519eeff4-7423-4799-b35b-aa854001c4b3",
   "metadata": {},
   "outputs": [
    {
     "data": {
      "text/plain": [
       "8"
      ]
     },
     "execution_count": 285,
     "metadata": {},
     "output_type": "execute_result"
    }
   ],
   "source": [
    "len(s) #len is the total lenght of value including space."
   ]
  },
  {
   "cell_type": "code",
   "execution_count": 287,
   "id": "ba3fca38-4485-4d9f-b02a-295730c1adc9",
   "metadata": {},
   "outputs": [
    {
     "data": {
      "text/plain": [
       "'sk aftab'"
      ]
     },
     "execution_count": 287,
     "metadata": {},
     "output_type": "execute_result"
    }
   ],
   "source": [
    "s"
   ]
  },
  {
   "cell_type": "markdown",
   "id": "c8310426-5bd1-41bd-a333-a45e9b3e59b7",
   "metadata": {},
   "source": [
    "# TYPE CASTING"
   ]
  },
  {
   "cell_type": "code",
   "execution_count": 291,
   "id": "9c78e3f1-3f45-4c35-a33a-bb1476832ba7",
   "metadata": {},
   "outputs": [
    {
     "data": {
      "text/plain": [
       "2"
      ]
     },
     "execution_count": 291,
     "metadata": {},
     "output_type": "execute_result"
    }
   ],
   "source": [
    "int (2.3) #Cast or Convert From Flot TO Int."
   ]
  },
  {
   "cell_type": "code",
   "execution_count": 293,
   "id": "8267ff64-2ead-442f-87fe-279173ef0874",
   "metadata": {},
   "outputs": [
    {
     "ename": "TypeError",
     "evalue": "'float' object cannot be interpreted as an integer",
     "output_type": "error",
     "traceback": [
      "\u001b[1;31m---------------------------------------------------------------------------\u001b[0m",
      "\u001b[1;31mTypeError\u001b[0m                                 Traceback (most recent call last)",
      "Cell \u001b[1;32mIn[293], line 1\u001b[0m\n\u001b[1;32m----> 1\u001b[0m \u001b[38;5;28mint\u001b[39m(\u001b[38;5;241m2.3\u001b[39m,\u001b[38;5;241m3.0\u001b[39m)\n",
      "\u001b[1;31mTypeError\u001b[0m: 'float' object cannot be interpreted as an integer"
     ]
    }
   ],
   "source": [
    "int(2.3,3.0) #only one parameter or argument is allowed."
   ]
  },
  {
   "cell_type": "code",
   "execution_count": 295,
   "id": "55065df4-f984-4c2a-9717-24f1817b91c2",
   "metadata": {},
   "outputs": [
    {
     "data": {
      "text/plain": [
       "1"
      ]
     },
     "execution_count": 295,
     "metadata": {},
     "output_type": "execute_result"
    }
   ],
   "source": [
    "int(True) #cast from Bool to Int."
   ]
  },
  {
   "cell_type": "code",
   "execution_count": 297,
   "id": "1a16406f-288e-4fd1-bb48-94e12199ca11",
   "metadata": {},
   "outputs": [
    {
     "data": {
      "text/plain": [
       "0"
      ]
     },
     "execution_count": 297,
     "metadata": {},
     "output_type": "execute_result"
    }
   ],
   "source": [
    "int(False)"
   ]
  },
  {
   "cell_type": "code",
   "execution_count": 299,
   "id": "3ed99e96-3eaf-49b3-b515-952ac1b2a219",
   "metadata": {},
   "outputs": [
    {
     "data": {
      "text/plain": [
       "True"
      ]
     },
     "execution_count": 299,
     "metadata": {},
     "output_type": "execute_result"
    }
   ],
   "source": [
    "True"
   ]
  },
  {
   "cell_type": "code",
   "execution_count": 301,
   "id": "a5729f88-ab37-4069-959d-3edd4d7df6d3",
   "metadata": {},
   "outputs": [
    {
     "data": {
      "text/plain": [
       "2"
      ]
     },
     "execution_count": 301,
     "metadata": {},
     "output_type": "execute_result"
    }
   ],
   "source": [
    "True + True"
   ]
  },
  {
   "cell_type": "code",
   "execution_count": 303,
   "id": "8d48fed2-dc44-492a-a7f3-ced07487139a",
   "metadata": {},
   "outputs": [
    {
     "ename": "SyntaxError",
     "evalue": "expression cannot contain assignment, perhaps you meant \"==\"? (829450347.py, line 1)",
     "output_type": "error",
     "traceback": [
      "\u001b[1;36m  Cell \u001b[1;32mIn[303], line 1\u001b[1;36m\u001b[0m\n\u001b[1;33m    int(1=2j) #Cannot cast complex to int because of its combine of num $ alph\u001b[0m\n\u001b[1;37m        ^\u001b[0m\n\u001b[1;31mSyntaxError\u001b[0m\u001b[1;31m:\u001b[0m expression cannot contain assignment, perhaps you meant \"==\"?\n"
     ]
    }
   ],
   "source": [
    "int(1=2j) #Cannot cast complex to int because of its combine of num $ alph"
   ]
  },
  {
   "cell_type": "code",
   "execution_count": 305,
   "id": "8fae8cc5-ede0-4d0f-9904-2484d36b0a0a",
   "metadata": {},
   "outputs": [
    {
     "data": {
      "text/plain": [
       "10"
      ]
     },
     "execution_count": 305,
     "metadata": {},
     "output_type": "execute_result"
    }
   ],
   "source": [
    "int(\"10\")\n"
   ]
  },
  {
   "cell_type": "code",
   "execution_count": 307,
   "id": "ff1d9368-cc82-4431-b7a8-c230207e2fa1",
   "metadata": {},
   "outputs": [
    {
     "ename": "ValueError",
     "evalue": "invalid literal for int() with base 10: 'ten'",
     "output_type": "error",
     "traceback": [
      "\u001b[1;31m---------------------------------------------------------------------------\u001b[0m",
      "\u001b[1;31mValueError\u001b[0m                                Traceback (most recent call last)",
      "Cell \u001b[1;32mIn[307], line 1\u001b[0m\n\u001b[1;32m----> 1\u001b[0m \u001b[38;5;28mint\u001b[39m(\u001b[38;5;124m'''\u001b[39m\u001b[38;5;124mten\u001b[39m\u001b[38;5;124m'''\u001b[39m)\n",
      "\u001b[1;31mValueError\u001b[0m: invalid literal for int() with base 10: 'ten'"
     ]
    }
   ],
   "source": [
    "int('''ten''')"
   ]
  },
  {
   "cell_type": "code",
   "execution_count": 309,
   "id": "7e6cb982-0e2e-487a-a414-8db53e19f6cd",
   "metadata": {},
   "outputs": [
    {
     "data": {
      "text/plain": [
       "10.0"
      ]
     },
     "execution_count": 309,
     "metadata": {},
     "output_type": "execute_result"
    }
   ],
   "source": [
    "float(10)"
   ]
  },
  {
   "cell_type": "code",
   "execution_count": 311,
   "id": "d77af6f3-0bd7-4e9c-82bb-71c7da466f05",
   "metadata": {},
   "outputs": [
    {
     "ename": "TypeError",
     "evalue": "float expected at most 1 argument, got 2",
     "output_type": "error",
     "traceback": [
      "\u001b[1;31m---------------------------------------------------------------------------\u001b[0m",
      "\u001b[1;31mTypeError\u001b[0m                                 Traceback (most recent call last)",
      "Cell \u001b[1;32mIn[311], line 1\u001b[0m\n\u001b[1;32m----> 1\u001b[0m \u001b[38;5;28mfloat\u001b[39m(\u001b[38;5;241m10\u001b[39m,\u001b[38;5;241m29\u001b[39m)\n",
      "\u001b[1;31mTypeError\u001b[0m: float expected at most 1 argument, got 2"
     ]
    }
   ],
   "source": [
    "float(10,29)#only one parameter is allow"
   ]
  },
  {
   "cell_type": "code",
   "execution_count": 313,
   "id": "122eab9b-bc56-43e4-a5e8-f96e737f246e",
   "metadata": {},
   "outputs": [
    {
     "data": {
      "text/plain": [
       "1.0"
      ]
     },
     "execution_count": 313,
     "metadata": {},
     "output_type": "execute_result"
    }
   ],
   "source": [
    "float(True)"
   ]
  },
  {
   "cell_type": "code",
   "execution_count": 315,
   "id": "7e564fb9-a2bd-4adb-92b1-78e4aa9115f9",
   "metadata": {},
   "outputs": [
    {
     "data": {
      "text/plain": [
       "0.0"
      ]
     },
     "execution_count": 315,
     "metadata": {},
     "output_type": "execute_result"
    }
   ],
   "source": [
    "float(False)"
   ]
  },
  {
   "cell_type": "code",
   "execution_count": 317,
   "id": "2f955707-15af-459b-b84f-4628e1570437",
   "metadata": {},
   "outputs": [
    {
     "ename": "TypeError",
     "evalue": "float() argument must be a string or a real number, not 'complex'",
     "output_type": "error",
     "traceback": [
      "\u001b[1;31m---------------------------------------------------------------------------\u001b[0m",
      "\u001b[1;31mTypeError\u001b[0m                                 Traceback (most recent call last)",
      "Cell \u001b[1;32mIn[317], line 1\u001b[0m\n\u001b[1;32m----> 1\u001b[0m \u001b[38;5;28mfloat\u001b[39m(\u001b[38;5;241m1\u001b[39m\u001b[38;5;241m+\u001b[39m\u001b[38;5;241m2\u001b[39mj)\n",
      "\u001b[1;31mTypeError\u001b[0m: float() argument must be a string or a real number, not 'complex'"
     ]
    }
   ],
   "source": [
    "float(1+2j)#cannot cast commplex"
   ]
  },
  {
   "cell_type": "code",
   "execution_count": 319,
   "id": "dad2df38-c763-414d-ba0a-dceabaa67a5f",
   "metadata": {},
   "outputs": [
    {
     "data": {
      "text/plain": [
       "10.0"
      ]
     },
     "execution_count": 319,
     "metadata": {},
     "output_type": "execute_result"
    }
   ],
   "source": [
    "float(\"10\")"
   ]
  },
  {
   "cell_type": "code",
   "execution_count": 321,
   "id": "75f7a36e-2236-4b64-9536-4438ff766116",
   "metadata": {},
   "outputs": [
    {
     "ename": "ValueError",
     "evalue": "could not convert string to float: 'ten'",
     "output_type": "error",
     "traceback": [
      "\u001b[1;31m---------------------------------------------------------------------------\u001b[0m",
      "\u001b[1;31mValueError\u001b[0m                                Traceback (most recent call last)",
      "Cell \u001b[1;32mIn[321], line 1\u001b[0m\n\u001b[1;32m----> 1\u001b[0m \u001b[38;5;28mfloat\u001b[39m(\u001b[38;5;124m\"\u001b[39m\u001b[38;5;124mten\u001b[39m\u001b[38;5;124m\"\u001b[39m)\n",
      "\u001b[1;31mValueError\u001b[0m: could not convert string to float: 'ten'"
     ]
    }
   ],
   "source": [
    "float(\"ten\")"
   ]
  },
  {
   "cell_type": "code",
   "execution_count": 323,
   "id": "0b85c764-6abc-4c6e-b250-b80bb177488a",
   "metadata": {},
   "outputs": [
    {
     "data": {
      "text/plain": [
       "2"
      ]
     },
     "execution_count": 323,
     "metadata": {},
     "output_type": "execute_result"
    }
   ],
   "source": [
    "True + True"
   ]
  },
  {
   "cell_type": "code",
   "execution_count": 325,
   "id": "99cfe9eb-1dcb-49c5-8f82-467b39cb143d",
   "metadata": {},
   "outputs": [
    {
     "data": {
      "text/plain": [
       "(10+0j)"
      ]
     },
     "execution_count": 325,
     "metadata": {},
     "output_type": "execute_result"
    }
   ],
   "source": [
    "complex(10)"
   ]
  },
  {
   "cell_type": "code",
   "execution_count": 327,
   "id": "165a72b2-2ae9-4b11-80a2-c2d0fe798332",
   "metadata": {},
   "outputs": [
    {
     "data": {
      "text/plain": [
       "(10+20j)"
      ]
     },
     "execution_count": 327,
     "metadata": {},
     "output_type": "execute_result"
    }
   ],
   "source": [
    "complex(10,20)"
   ]
  },
  {
   "cell_type": "code",
   "execution_count": 329,
   "id": "bbba6fed-c3cf-494a-b923-14a7120ce93a",
   "metadata": {},
   "outputs": [
    {
     "ename": "TypeError",
     "evalue": "complex() takes at most 2 arguments (3 given)",
     "output_type": "error",
     "traceback": [
      "\u001b[1;31m---------------------------------------------------------------------------\u001b[0m",
      "\u001b[1;31mTypeError\u001b[0m                                 Traceback (most recent call last)",
      "Cell \u001b[1;32mIn[329], line 1\u001b[0m\n\u001b[1;32m----> 1\u001b[0m \u001b[38;5;28mcomplex\u001b[39m(\u001b[38;5;241m1\u001b[39m,\u001b[38;5;241m2\u001b[39m,\u001b[38;5;241m3\u001b[39m)\n",
      "\u001b[1;31mTypeError\u001b[0m: complex() takes at most 2 arguments (3 given)"
     ]
    }
   ],
   "source": [
    "complex(1,2,3) #only 2 parameter is allowed"
   ]
  },
  {
   "cell_type": "code",
   "execution_count": 331,
   "id": "9cba5255-5bad-4bb8-8150-4f9524092bd6",
   "metadata": {},
   "outputs": [
    {
     "data": {
      "text/plain": [
       "(2.3+0j)"
      ]
     },
     "execution_count": 331,
     "metadata": {},
     "output_type": "execute_result"
    }
   ],
   "source": [
    "complex(2.3)"
   ]
  },
  {
   "cell_type": "code",
   "execution_count": 332,
   "id": "61b09c88-c412-4bbb-aa4a-b08cc196da36",
   "metadata": {},
   "outputs": [
    {
     "data": {
      "text/plain": [
       "(2+1.2j)"
      ]
     },
     "execution_count": 332,
     "metadata": {},
     "output_type": "execute_result"
    }
   ],
   "source": [
    "complex(2,1.2)"
   ]
  },
  {
   "cell_type": "code",
   "execution_count": 335,
   "id": "5b52893d-43f6-47dd-a4bc-b79e91711a36",
   "metadata": {},
   "outputs": [
    {
     "data": {
      "text/plain": [
       "(1+0j)"
      ]
     },
     "execution_count": 335,
     "metadata": {},
     "output_type": "execute_result"
    }
   ],
   "source": [
    "complex(True)"
   ]
  },
  {
   "cell_type": "code",
   "execution_count": 337,
   "id": "cae3b6b3-8e73-4375-ad5f-fe36ac3b8b7c",
   "metadata": {},
   "outputs": [
    {
     "data": {
      "text/plain": [
       "0j"
      ]
     },
     "execution_count": 337,
     "metadata": {},
     "output_type": "execute_result"
    }
   ],
   "source": [
    "complex(False)"
   ]
  },
  {
   "cell_type": "code",
   "execution_count": 339,
   "id": "76027d5c-da69-4995-b8de-14c8abf4061d",
   "metadata": {},
   "outputs": [
    {
     "data": {
      "text/plain": [
       "(1+1j)"
      ]
     },
     "execution_count": 339,
     "metadata": {},
     "output_type": "execute_result"
    }
   ],
   "source": [
    "complex(1,True)"
   ]
  },
  {
   "cell_type": "code",
   "execution_count": 341,
   "id": "cc218db4-3493-48db-bc39-02634b803b93",
   "metadata": {},
   "outputs": [
    {
     "data": {
      "text/plain": [
       "(2+0j)"
      ]
     },
     "execution_count": 341,
     "metadata": {},
     "output_type": "execute_result"
    }
   ],
   "source": [
    "complex(2,False)"
   ]
  },
  {
   "cell_type": "code",
   "execution_count": 343,
   "id": "e68d4f07-4b82-4ff1-90d9-2b27df803c66",
   "metadata": {},
   "outputs": [
    {
     "data": {
      "text/plain": [
       "(2.1+1j)"
      ]
     },
     "execution_count": 343,
     "metadata": {},
     "output_type": "execute_result"
    }
   ],
   "source": [
    "complex(2.1,True)"
   ]
  },
  {
   "cell_type": "code",
   "execution_count": 345,
   "id": "3afbda2b-1fc8-4a77-b270-64f2161da613",
   "metadata": {},
   "outputs": [
    {
     "data": {
      "text/plain": [
       "(2.3+0j)"
      ]
     },
     "execution_count": 345,
     "metadata": {},
     "output_type": "execute_result"
    }
   ],
   "source": [
    "complex(2.3,False)"
   ]
  },
  {
   "cell_type": "code",
   "execution_count": 347,
   "id": "4371d20e-7711-4df1-891b-78ea61950c11",
   "metadata": {},
   "outputs": [
    {
     "data": {
      "text/plain": [
       "(1+2j)"
      ]
     },
     "execution_count": 347,
     "metadata": {},
     "output_type": "execute_result"
    }
   ],
   "source": [
    "complex(True,2)"
   ]
  },
  {
   "cell_type": "code",
   "execution_count": 349,
   "id": "17218fed-b38d-4909-a538-2c747552b472",
   "metadata": {},
   "outputs": [
    {
     "data": {
      "text/plain": [
       "2.2j"
      ]
     },
     "execution_count": 349,
     "metadata": {},
     "output_type": "execute_result"
    }
   ],
   "source": [
    "complex(False,2.2)"
   ]
  },
  {
   "cell_type": "code",
   "execution_count": 351,
   "id": "b4b3afff-7a5d-47a0-9ee1-71e8db8c616f",
   "metadata": {},
   "outputs": [
    {
     "data": {
      "text/plain": [
       "(1+3.4j)"
      ]
     },
     "execution_count": 351,
     "metadata": {},
     "output_type": "execute_result"
    }
   ],
   "source": [
    "complex(True,3.4)"
   ]
  },
  {
   "cell_type": "code",
   "execution_count": 353,
   "id": "c2d86d06-0e1b-4a40-afa3-5cee04dcfa03",
   "metadata": {},
   "outputs": [
    {
     "ename": "TypeError",
     "evalue": "complex() second arg can't be a string",
     "output_type": "error",
     "traceback": [
      "\u001b[1;31m---------------------------------------------------------------------------\u001b[0m",
      "\u001b[1;31mTypeError\u001b[0m                                 Traceback (most recent call last)",
      "Cell \u001b[1;32mIn[353], line 1\u001b[0m\n\u001b[1;32m----> 1\u001b[0m \u001b[38;5;28mcomplex\u001b[39m(\u001b[38;5;28;01mTrue\u001b[39;00m,\u001b[38;5;124m\"\u001b[39m\u001b[38;5;124msk\u001b[39m\u001b[38;5;124m\"\u001b[39m)\n",
      "\u001b[1;31mTypeError\u001b[0m: complex() second arg can't be a string"
     ]
    }
   ],
   "source": [
    "complex(True,\"sk\") #second arugument can't be true"
   ]
  },
  {
   "cell_type": "code",
   "execution_count": 355,
   "id": "f62d64ca-4c1f-4921-9b0b-775f6bfc02d3",
   "metadata": {},
   "outputs": [
    {
     "ename": "ValueError",
     "evalue": "complex() arg is a malformed string",
     "output_type": "error",
     "traceback": [
      "\u001b[1;31m---------------------------------------------------------------------------\u001b[0m",
      "\u001b[1;31mValueError\u001b[0m                                Traceback (most recent call last)",
      "Cell \u001b[1;32mIn[355], line 1\u001b[0m\n\u001b[1;32m----> 1\u001b[0m \u001b[38;5;28mcomplex\u001b[39m(\u001b[38;5;124m\"\u001b[39m\u001b[38;5;124msk\u001b[39m\u001b[38;5;124m\"\u001b[39m)\n",
      "\u001b[1;31mValueError\u001b[0m: complex() arg is a malformed string"
     ]
    }
   ],
   "source": [
    "complex(\"sk\")"
   ]
  },
  {
   "cell_type": "code",
   "execution_count": 357,
   "id": "4edc3514-4156-434d-a6d8-3504f9c328c2",
   "metadata": {},
   "outputs": [
    {
     "data": {
      "text/plain": [
       "(10+0j)"
      ]
     },
     "execution_count": 357,
     "metadata": {},
     "output_type": "execute_result"
    }
   ],
   "source": [
    "complex(\"10\")"
   ]
  },
  {
   "cell_type": "code",
   "execution_count": 359,
   "id": "c4452e43-ff75-4b10-a4b0-7dfe0f74c01b",
   "metadata": {},
   "outputs": [
    {
     "data": {
      "text/plain": [
       "(1+1j)"
      ]
     },
     "execution_count": 359,
     "metadata": {},
     "output_type": "execute_result"
    }
   ],
   "source": [
    "complex(True,True)"
   ]
  },
  {
   "cell_type": "code",
   "execution_count": 362,
   "id": "7b4092a2-35d3-4351-a2d5-3475b492dcb0",
   "metadata": {},
   "outputs": [
    {
     "ename": "TypeError",
     "evalue": "complex() can't take second arg if first is a string",
     "output_type": "error",
     "traceback": [
      "\u001b[1;31m---------------------------------------------------------------------------\u001b[0m",
      "\u001b[1;31mTypeError\u001b[0m                                 Traceback (most recent call last)",
      "Cell \u001b[1;32mIn[362], line 1\u001b[0m\n\u001b[1;32m----> 1\u001b[0m \u001b[38;5;28mcomplex\u001b[39m(\u001b[38;5;124m\"\u001b[39m\u001b[38;5;124m10\u001b[39m\u001b[38;5;124m\"\u001b[39m,\u001b[38;5;124m\"\u001b[39m\u001b[38;5;124m20\u001b[39m\u001b[38;5;124m\"\u001b[39m)\n",
      "\u001b[1;31mTypeError\u001b[0m: complex() can't take second arg if first is a string"
     ]
    }
   ],
   "source": [
    "complex(\"10\",\"20\")"
   ]
  },
  {
   "cell_type": "code",
   "execution_count": 364,
   "id": "ca5c7d63-c2ce-486f-9581-2970cb1ac6ec",
   "metadata": {},
   "outputs": [
    {
     "ename": "TypeError",
     "evalue": "complex() second arg can't be a string",
     "output_type": "error",
     "traceback": [
      "\u001b[1;31m---------------------------------------------------------------------------\u001b[0m",
      "\u001b[1;31mTypeError\u001b[0m                                 Traceback (most recent call last)",
      "Cell \u001b[1;32mIn[364], line 1\u001b[0m\n\u001b[1;32m----> 1\u001b[0m \u001b[38;5;28mcomplex\u001b[39m(\u001b[38;5;241m10\u001b[39m,\u001b[38;5;124m\"\u001b[39m\u001b[38;5;124m10\u001b[39m\u001b[38;5;124m\"\u001b[39m)\n",
      "\u001b[1;31mTypeError\u001b[0m: complex() second arg can't be a string"
     ]
    }
   ],
   "source": [
    "complex(10,\"10\")"
   ]
  },
  {
   "cell_type": "code",
   "execution_count": 366,
   "id": "e11409a4-026e-4084-9211-c1ee23dbf893",
   "metadata": {},
   "outputs": [
    {
     "ename": "TypeError",
     "evalue": "complex() can't take second arg if first is a string",
     "output_type": "error",
     "traceback": [
      "\u001b[1;31m---------------------------------------------------------------------------\u001b[0m",
      "\u001b[1;31mTypeError\u001b[0m                                 Traceback (most recent call last)",
      "Cell \u001b[1;32mIn[366], line 1\u001b[0m\n\u001b[1;32m----> 1\u001b[0m \u001b[38;5;28mcomplex\u001b[39m(\u001b[38;5;124m\"\u001b[39m\u001b[38;5;124m10\u001b[39m\u001b[38;5;124m\"\u001b[39m,\u001b[38;5;241m100\u001b[39m)\n",
      "\u001b[1;31mTypeError\u001b[0m: complex() can't take second arg if first is a string"
     ]
    }
   ],
   "source": [
    "complex(\"10\",100)"
   ]
  },
  {
   "cell_type": "code",
   "execution_count": 368,
   "id": "43911cfd-9601-4270-9c5c-458eb071386f",
   "metadata": {},
   "outputs": [
    {
     "data": {
      "text/plain": [
       "True"
      ]
     },
     "execution_count": 368,
     "metadata": {},
     "output_type": "execute_result"
    }
   ],
   "source": [
    "bool(2)"
   ]
  },
  {
   "cell_type": "code",
   "execution_count": 370,
   "id": "3bbb1927-40c6-44eb-bcc1-bb9d8489430f",
   "metadata": {},
   "outputs": [
    {
     "data": {
      "text/plain": [
       "False"
      ]
     },
     "execution_count": 370,
     "metadata": {},
     "output_type": "execute_result"
    }
   ],
   "source": [
    "bool(0)"
   ]
  },
  {
   "cell_type": "code",
   "execution_count": 372,
   "id": "1533296b-1a08-45e7-a8ef-33e5cb2ab96f",
   "metadata": {},
   "outputs": [
    {
     "data": {
      "text/plain": [
       "True"
      ]
     },
     "execution_count": 372,
     "metadata": {},
     "output_type": "execute_result"
    }
   ],
   "source": [
    "bool(-1)"
   ]
  },
  {
   "cell_type": "code",
   "execution_count": 374,
   "id": "9bb3c557-b387-4c32-84e4-bd2d2a5a0983",
   "metadata": {},
   "outputs": [
    {
     "ename": "TypeError",
     "evalue": "bool expected at most 1 argument, got 2",
     "output_type": "error",
     "traceback": [
      "\u001b[1;31m---------------------------------------------------------------------------\u001b[0m",
      "\u001b[1;31mTypeError\u001b[0m                                 Traceback (most recent call last)",
      "Cell \u001b[1;32mIn[374], line 1\u001b[0m\n\u001b[1;32m----> 1\u001b[0m \u001b[38;5;28mbool\u001b[39m(\u001b[38;5;241m2\u001b[39m,\u001b[38;5;241m3\u001b[39m)\n",
      "\u001b[1;31mTypeError\u001b[0m: bool expected at most 1 argument, got 2"
     ]
    }
   ],
   "source": [
    "bool(2,3)#Only one argument is allowed"
   ]
  },
  {
   "cell_type": "code",
   "execution_count": 376,
   "id": "23ba16a2-989d-4e2d-b057-495764276f61",
   "metadata": {},
   "outputs": [
    {
     "data": {
      "text/plain": [
       "True"
      ]
     },
     "execution_count": 376,
     "metadata": {},
     "output_type": "execute_result"
    }
   ],
   "source": [
    "bool(\"10\")"
   ]
  },
  {
   "cell_type": "code",
   "execution_count": 378,
   "id": "0f956ee1-a9cc-450c-9909-22a50cf2f026",
   "metadata": {},
   "outputs": [
    {
     "data": {
      "text/plain": [
       "True"
      ]
     },
     "execution_count": 378,
     "metadata": {},
     "output_type": "execute_result"
    }
   ],
   "source": [
    "bool(2.3)"
   ]
  },
  {
   "cell_type": "code",
   "execution_count": 380,
   "id": "eb2f6d17-8b65-475d-93ca-425cfc4f97b2",
   "metadata": {},
   "outputs": [
    {
     "data": {
      "text/plain": [
       "True"
      ]
     },
     "execution_count": 380,
     "metadata": {},
     "output_type": "execute_result"
    }
   ],
   "source": [
    "bool(1+2j)"
   ]
  },
  {
   "cell_type": "code",
   "execution_count": 382,
   "id": "4fa8a568-bb20-4935-bb9d-840e0ba69b84",
   "metadata": {},
   "outputs": [
    {
     "data": {
      "text/plain": [
       "False"
      ]
     },
     "execution_count": 382,
     "metadata": {},
     "output_type": "execute_result"
    }
   ],
   "source": [
    "bool(0+0j)"
   ]
  },
  {
   "cell_type": "code",
   "execution_count": 384,
   "id": "16ef84bd-b835-43cf-bc53-c34431f11c60",
   "metadata": {},
   "outputs": [
    {
     "data": {
      "text/plain": [
       "True"
      ]
     },
     "execution_count": 384,
     "metadata": {},
     "output_type": "execute_result"
    }
   ],
   "source": [
    "bool(1+1J)"
   ]
  },
  {
   "cell_type": "code",
   "execution_count": 386,
   "id": "2f883af6-1471-4b40-b977-1403a832b7b1",
   "metadata": {},
   "outputs": [
    {
     "data": {
      "text/plain": [
       "True"
      ]
     },
     "execution_count": 386,
     "metadata": {},
     "output_type": "execute_result"
    }
   ],
   "source": [
    "bool(1+0j)"
   ]
  },
  {
   "cell_type": "code",
   "execution_count": 388,
   "id": "4b7090f4-982b-41dc-8293-0a3932b778d7",
   "metadata": {},
   "outputs": [
    {
     "data": {
      "text/plain": [
       "True"
      ]
     },
     "execution_count": 388,
     "metadata": {},
     "output_type": "execute_result"
    }
   ],
   "source": [
    "bool(0+1j)"
   ]
  },
  {
   "cell_type": "code",
   "execution_count": 390,
   "id": "e8e52342-e7b4-4278-b9d2-64e8af01c433",
   "metadata": {},
   "outputs": [
    {
     "data": {
      "text/plain": [
       "True"
      ]
     },
     "execution_count": 390,
     "metadata": {},
     "output_type": "execute_result"
    }
   ],
   "source": [
    "bool(\"SK\")"
   ]
  },
  {
   "cell_type": "code",
   "execution_count": 392,
   "id": "0f2e3e7c-3909-452e-935e-46af51df350e",
   "metadata": {},
   "outputs": [
    {
     "data": {
      "text/plain": [
       "False"
      ]
     },
     "execution_count": 392,
     "metadata": {},
     "output_type": "execute_result"
    }
   ],
   "source": [
    "bool()"
   ]
  },
  {
   "cell_type": "code",
   "execution_count": 394,
   "id": "ccd1d30e-95c5-4954-a09c-ac597e833d60",
   "metadata": {},
   "outputs": [
    {
     "data": {
      "text/plain": [
       "'7'"
      ]
     },
     "execution_count": 394,
     "metadata": {},
     "output_type": "execute_result"
    }
   ],
   "source": [
    "str(7)"
   ]
  },
  {
   "cell_type": "code",
   "execution_count": 396,
   "id": "40f3415c-4b8e-4f05-b27d-19ef7321beee",
   "metadata": {},
   "outputs": [
    {
     "data": {
      "text/plain": [
       "'2.3'"
      ]
     },
     "execution_count": 396,
     "metadata": {},
     "output_type": "execute_result"
    }
   ],
   "source": [
    "str(2.3)"
   ]
  },
  {
   "cell_type": "code",
   "execution_count": 398,
   "id": "da3427ac-68b7-46d1-8646-e9fe7e5e80ee",
   "metadata": {},
   "outputs": [
    {
     "data": {
      "text/plain": [
       "'10'"
      ]
     },
     "execution_count": 398,
     "metadata": {},
     "output_type": "execute_result"
    }
   ],
   "source": [
    "str(\"10\")"
   ]
  },
  {
   "cell_type": "code",
   "execution_count": 400,
   "id": "f7d7a3d8-ccc7-4c93-a6e2-f1b058406fd9",
   "metadata": {},
   "outputs": [
    {
     "data": {
      "text/plain": [
       "'ten'"
      ]
     },
     "execution_count": 400,
     "metadata": {},
     "output_type": "execute_result"
    }
   ],
   "source": [
    "str(\"ten\")"
   ]
  },
  {
   "cell_type": "code",
   "execution_count": 402,
   "id": "e4b21d9a-ce07-4f02-8555-502ba1a7b036",
   "metadata": {},
   "outputs": [
    {
     "ename": "ValueError",
     "evalue": "complex() arg is a malformed string",
     "output_type": "error",
     "traceback": [
      "\u001b[1;31m---------------------------------------------------------------------------\u001b[0m",
      "\u001b[1;31mValueError\u001b[0m                                Traceback (most recent call last)",
      "Cell \u001b[1;32mIn[402], line 1\u001b[0m\n\u001b[1;32m----> 1\u001b[0m \u001b[38;5;28mcomplex\u001b[39m(\u001b[38;5;124m\"\u001b[39m\u001b[38;5;124mten\u001b[39m\u001b[38;5;124m\"\u001b[39m)\n",
      "\u001b[1;31mValueError\u001b[0m: complex() arg is a malformed string"
     ]
    }
   ],
   "source": [
    "complex(\"ten\")"
   ]
  },
  {
   "cell_type": "code",
   "execution_count": 404,
   "id": "6b49459f-9a6e-48fe-8858-f61d690bf499",
   "metadata": {},
   "outputs": [
    {
     "data": {
      "text/plain": [
       "'True'"
      ]
     },
     "execution_count": 404,
     "metadata": {},
     "output_type": "execute_result"
    }
   ],
   "source": [
    "str(True)"
   ]
  },
  {
   "cell_type": "code",
   "execution_count": 406,
   "id": "22012686-393f-4ffb-a5f0-df113d3059a9",
   "metadata": {},
   "outputs": [
    {
     "data": {
      "text/plain": [
       "'False'"
      ]
     },
     "execution_count": 406,
     "metadata": {},
     "output_type": "execute_result"
    }
   ],
   "source": [
    "str(False)"
   ]
  },
  {
   "cell_type": "code",
   "execution_count": 408,
   "id": "76a3644b-7570-4bb8-bcd8-7152b1b34023",
   "metadata": {},
   "outputs": [
    {
     "data": {
      "text/plain": [
       "'(1+2j)'"
      ]
     },
     "execution_count": 408,
     "metadata": {},
     "output_type": "execute_result"
    }
   ],
   "source": [
    "str(1+2j)"
   ]
  },
  {
   "cell_type": "code",
   "execution_count": 410,
   "id": "b8799730-1482-4497-bfb5-f9022ed72811",
   "metadata": {},
   "outputs": [
    {
     "data": {
      "text/plain": [
       "'-1'"
      ]
     },
     "execution_count": 410,
     "metadata": {},
     "output_type": "execute_result"
    }
   ],
   "source": [
    "str(-1)"
   ]
  }
 ],
 "metadata": {
  "kernelspec": {
   "display_name": "Python [conda env:base] *",
   "language": "python",
   "name": "conda-base-py"
  },
  "language_info": {
   "codemirror_mode": {
    "name": "ipython",
    "version": 3
   },
   "file_extension": ".py",
   "mimetype": "text/x-python",
   "name": "python",
   "nbconvert_exporter": "python",
   "pygments_lexer": "ipython3",
   "version": "3.12.7"
  }
 },
 "nbformat": 4,
 "nbformat_minor": 5
}
